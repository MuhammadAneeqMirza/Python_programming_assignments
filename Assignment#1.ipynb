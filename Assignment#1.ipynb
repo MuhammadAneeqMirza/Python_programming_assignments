{
 "cells": [
  {
   "cell_type": "code",
   "execution_count": 1,
   "metadata": {},
   "outputs": [
    {
     "name": "stdout",
     "output_type": "stream",
     "text": [
      "Twinkle, twinkle, little star,\n",
      "      How I wonder what you are!\n",
      "            Up above the world so high,\n",
      "            Like a diamond in the sky.\n",
      "Twinkle, twinkle, little star,\n",
      "      How I wonder what you are \n"
     ]
    }
   ],
   "source": [
    "A = \"Twinkle, twinkle, little star,\"\n",
    "B = \"      How I wonder what you are!\"\n",
    "C = \"            Up above the world so high,\"\n",
    "D = \"            Like a diamond in the sky.\"\n",
    "E = \"Twinkle, twinkle, little star,\"\n",
    "F = \"      How I wonder what you are \"\n",
    "      \n",
    "print(A)\n",
    "print(B)\n",
    "print(C)\n",
    "print(D)\n",
    "print(E)\n",
    "print(F)"
   ]
  },
  {
   "cell_type": "code",
   "execution_count": 1,
   "metadata": {},
   "outputs": [
    {
     "name": "stdout",
     "output_type": "stream",
     "text": [
      "3.7.3 (default, Apr 24 2019, 13:20:13) [MSC v.1915 32 bit (Intel)]\n"
     ]
    }
   ],
   "source": [
    "import sys\n",
    "print(sys.version)"
   ]
  },
  {
   "cell_type": "code",
   "execution_count": 6,
   "metadata": {},
   "outputs": [
    {
     "name": "stdout",
     "output_type": "stream",
     "text": [
      "08:08:35\n"
     ]
    }
   ],
   "source": [
    "import time\n",
    "print (time.strftime(\"%I:%M:%S\"))   # Time"
   ]
  },
  {
   "cell_type": "code",
   "execution_count": 7,
   "metadata": {},
   "outputs": [
    {
     "name": "stdout",
     "output_type": "stream",
     "text": [
      "31/10/2019\n"
     ]
    }
   ],
   "source": [
    "print (time.strftime(\"%d/%m/%Y\"))   # Date"
   ]
  },
  {
   "cell_type": "code",
   "execution_count": 8,
   "metadata": {},
   "outputs": [
    {
     "name": "stdout",
     "output_type": "stream",
     "text": [
      "Enter Radius:12\n",
      "452.16\n"
     ]
    }
   ],
   "source": [
    "R = int (input ('Enter Radius:'))\n",
    "\n",
    "A = 3.14 * (R*R)\n",
    "print(A)"
   ]
  },
  {
   "cell_type": "code",
   "execution_count": 10,
   "metadata": {},
   "outputs": [
    {
     "name": "stdout",
     "output_type": "stream",
     "text": [
      "First Name:-  ANEEQ\n",
      "Last Name:-  MIRZA\n",
      "MIRZA ANEEQ\n"
     ]
    }
   ],
   "source": [
    "First_Name = input (\"First Name:-  \") \n",
    "Last_Name = input (\"Last Name:-   \")\n",
    "\n",
    "print ( Last_Name + \" \" + First_Name)"
   ]
  },
  {
   "cell_type": "code",
   "execution_count": 12,
   "metadata": {},
   "outputs": [
    {
     "name": "stdout",
     "output_type": "stream",
     "text": [
      "Value_1:  12\n",
      "Value_2:  13\n",
      "25\n"
     ]
    }
   ],
   "source": [
    "\n",
    "A = int (input (\"Value_1:  \"))\n",
    "B = int (input (\"Value_2:  \"))\n",
    "\n",
    "C = A + B\n",
    "print (C)"
   ]
  },
  {
   "cell_type": "code",
   "execution_count": null,
   "metadata": {},
   "outputs": [],
   "source": []
  }
 ],
 "metadata": {
  "kernelspec": {
   "display_name": "Python 3",
   "language": "python",
   "name": "python3"
  },
  "language_info": {
   "codemirror_mode": {
    "name": "ipython",
    "version": 3
   },
   "file_extension": ".py",
   "mimetype": "text/x-python",
   "name": "python",
   "nbconvert_exporter": "python",
   "pygments_lexer": "ipython3",
   "version": "3.7.3"
  }
 },
 "nbformat": 4,
 "nbformat_minor": 2
}
