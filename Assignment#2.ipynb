{
 "cells": [
  {
   "cell_type": "code",
   "execution_count": 3,
   "metadata": {},
   "outputs": [
    {
     "name": "stdout",
     "output_type": "stream",
     "text": [
      "============ MARKS SHEET ================\n",
      "\n",
      "Enter Advance English Marks    :33\n",
      "Enter Basic Electronics Marks  :55\n",
      "Enter Basic Electrical Marks   :77\n",
      "Enter Digit Processing Marks   :88\n",
      "Enter Basic Mechanical Marks   :90\n",
      "\n",
      "Total Marks     :  500\n",
      "Obtain Marks    :  343\n",
      "Percentage      :  68.60000000000001\n",
      "Grad            :  B\n"
     ]
    }
   ],
   "source": [
    "\n",
    "print(\"============ MARKS SHEET ================\\n\")\n",
    "\n",
    "a1 = int(input(\"Enter Advance English Marks    :\"))\n",
    "b1 = int(input(\"Enter Basic Electronics Marks  :\"))\n",
    "c1 = int(input(\"Enter Basic Electrical Marks   :\"))\n",
    "d1 = int(input(\"Enter Digit Processing Marks   :\"))\n",
    "e1 = int(input(\"Enter Basic Mechanical Marks   :\"))\n",
    "\n",
    "\n",
    "total  = 500\n",
    "obtain = (a1 + b1 + c1 + d1 + e1)\n",
    "avg    = obtain/total\n",
    "per    = avg*100\n",
    "\n",
    "print(\"\\nTotal Marks     : \",total)\n",
    "print(\"Obtain Marks    : \",obtain)\n",
    "print(\"Percentage      : \",per)\n",
    "\n",
    "if a1 >=33 and a1 <= 100 and b1 >=33 and b1 <= 100 and c1 >=33 and c1 <= 100 and d1 >=33 and d1 <= 100 and e1 >=33 and e1 <= 100:\n",
    "\n",
    "    if per >=80 and per <= 100 :\n",
    "        print(\"Grad            :  A+\")\n",
    "    elif per >= 70 and per < 80 :\n",
    "        print(\"Grad            :  A\")\n",
    "    elif per >= 60 and per < 70 :\n",
    "        print(\"Grad            :  B\") \n",
    "    elif per >= 50 and per < 60 :\n",
    "        print(\"Grad             : C\")\n",
    "    else:\n",
    "        print(\"\\nYou have fail in this semester\")\n",
    "\n",
    "else :\n",
    "    print(\"\\nyou have enter inapropiate subject marks\")"
   ]
  },
  {
   "cell_type": "markdown",
   "metadata": {},
   "source": [
    "### "
   ]
  },
  {
   "cell_type": "code",
   "execution_count": 7,
   "metadata": {},
   "outputs": [
    {
     "name": "stdout",
     "output_type": "stream",
     "text": [
      "Enter numaric value :2\n",
      "\n",
      "The given number is even\n"
     ]
    }
   ],
   "source": [
    "input = int(input(\"Enter numaric value :\"))\n",
    "\n",
    "if input % 2 == 0 : \n",
    "    print(\"\\nThe given number is even\")\n",
    "else: \n",
    "    print(\"\\nThe given number is odd\")\n",
    "\n"
   ]
  },
  {
   "cell_type": "code",
   "execution_count": 4,
   "metadata": {},
   "outputs": [
    {
     "name": "stdout",
     "output_type": "stream",
     "text": [
      "Length of list : 5\n"
     ]
    }
   ],
   "source": [
    "list = [1,2,3,4,5]\n",
    "length = len(list)\n",
    "print(\"Length of list :\",length)\n",
    "\n"
   ]
  },
  {
   "cell_type": "code",
   "execution_count": 5,
   "metadata": {},
   "outputs": [
    {
     "name": "stdout",
     "output_type": "stream",
     "text": [
      "list = [1, 34, 55, 4, 5]\n",
      "\n",
      "Sum of list = 99\n"
     ]
    }
   ],
   "source": [
    "list = [1,34,55,4,5]\n",
    "\n",
    "print(\"list =\",list)\n",
    "\n",
    "sum = list[0] + list[1] + list[2] + list[3] + list[4]\n",
    "\n",
    "print(\"\\nSum of list =\",sum)\n",
    "\n"
   ]
  },
  {
   "cell_type": "code",
   "execution_count": 6,
   "metadata": {},
   "outputs": [
    {
     "name": "stdout",
     "output_type": "stream",
     "text": [
      "Largest number of the list : 5000\n"
     ]
    }
   ],
   "source": [
    "a = 0\n",
    "list = [100, 300, 4005, 5000, 600]\n",
    "\n",
    "if list[0] < list[1]:\n",
    " a = list[1]\n",
    "else:\n",
    " a = list[0]   \n",
    "if a < list[2]:\n",
    " a = list[2]\n",
    "if a < list[3]:\n",
    " a = list[3]  \n",
    "if a < list[4]:\n",
    " a = list[4]\n",
    "\n",
    "print(\"Largest number of the list :\",a)\n",
    "\n"
   ]
  },
  {
   "cell_type": "code",
   "execution_count": 7,
   "metadata": {},
   "outputs": [
    {
     "name": "stdout",
     "output_type": "stream",
     "text": [
      "[1, 2, 4, 2, 3]\n"
     ]
    }
   ],
   "source": [
    "list2 =[]\n",
    "\n",
    "list = [1, 2, 55, 4, 5 , 2 ,3]\n",
    "\n",
    "\n",
    "if list[0] < 5:\n",
    "  list2.append(list[0])\n",
    "\n",
    "if list[1] < 5:\n",
    "  list2.append(list[1])\n",
    "\n",
    "if list[2] < 5:\n",
    "  list2.append(list[2])\n",
    "\n",
    "if list[3] < 5:\n",
    "  list2.append(list[3])\n",
    "\n",
    "if list[4] < 5:\n",
    "  list2.append(list[4])\n",
    "\n",
    "if list[5] < 5:\n",
    "  list2.append(list[5])\n",
    "\n",
    "if list[6] < 5:\n",
    "  list2.append(list[6])\n",
    "\n",
    "print(list2)\n",
    "    "
   ]
  },
  {
   "cell_type": "code",
   "execution_count": null,
   "metadata": {},
   "outputs": [],
   "source": []
  }
 ],
 "metadata": {
  "kernelspec": {
   "display_name": "Python 3",
   "language": "python",
   "name": "python3"
  },
  "language_info": {
   "codemirror_mode": {
    "name": "ipython",
    "version": 3
   },
   "file_extension": ".py",
   "mimetype": "text/x-python",
   "name": "python",
   "nbconvert_exporter": "python",
   "pygments_lexer": "ipython3",
   "version": "3.7.4"
  }
 },
 "nbformat": 4,
 "nbformat_minor": 2
}
