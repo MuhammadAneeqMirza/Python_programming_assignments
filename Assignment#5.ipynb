{
 "cells": [
  {
   "cell_type": "code",
   "execution_count": 2,
   "metadata": {},
   "outputs": [
    {
     "name": "stdout",
     "output_type": "stream",
     "text": [
      "Enter number:  3\n",
      "Factorial of 3 is: 6\n"
     ]
    }
   ],
   "source": [
    "fect=int(input(\"Enter number:  \"))\n",
    "def fectorial_cal(fect):\n",
    "    a=0\n",
    "    for i in range (2,fect):\n",
    "        \n",
    "        a=a+(i*fect)\n",
    "        \n",
    "    print(\"Factorial of\",fect, \"is:\",a)\n",
    "fectorial_cal(fect)"
   ]
  },
  {
   "cell_type": "code",
   "execution_count": 3,
   "metadata": {},
   "outputs": [
    {
     "name": "stdout",
     "output_type": "stream",
     "text": [
      "Enter string:anEEq\n",
      "Total number of lowercase characters is:  3\n",
      "Total number of uppercase characters is:  2\n"
     ]
    }
   ],
   "source": [
    "str=input(\"Enter string:\")\n",
    "def character(str):\n",
    "    lower_count=0\n",
    "    upper_count=0\n",
    "    for count in str:\n",
    "          if(count.islower()):\n",
    "                lower_count=lower_count+1\n",
    "          elif(count.isupper()):\n",
    "                upper_count=upper_count+1\n",
    "    print(\"Total number of lowercase characters is: \",lower_count)\n",
    "    print(\"Total number of uppercase characters is: \",upper_count)\n",
    "    \n",
    "character(str)\n"
   ]
  },
  {
   "cell_type": "code",
   "execution_count": 4,
   "metadata": {},
   "outputs": [
    {
     "name": "stdout",
     "output_type": "stream",
     "text": [
      "Even Numbers [86, 54, 76, 82, 96, 88]\n"
     ]
    }
   ],
   "source": [
    "#-----------TASK#3--------------\n",
    "list=[86,1,9,54,76,82,96,88]\n",
    "\n",
    "def even_find (list):\n",
    "  list1 =[]\n",
    "  for a in list:\n",
    "   if a%2==0:\n",
    "       list1.append(a)\n",
    "  print(\"Even Numbers\",list1)\n",
    "even_find(list)"
   ]
  },
  {
   "cell_type": "code",
   "execution_count": 5,
   "metadata": {},
   "outputs": [
    {
     "name": "stdout",
     "output_type": "stream",
     "text": [
      "Enter String: aba\n",
      "Given string is palindrom\n"
     ]
    }
   ],
   "source": [
    "string=input(\"Enter String: \")\n",
    "def palindrom_check(string):\n",
    "    string_rev = string[::-1]\n",
    "    if string == string_rev:\n",
    "        print(\"Given string is palindrom\")\n",
    "    else:\n",
    "        print(\"Given string Not a palindrom\")\n",
    "palindrom_check(string)\n"
   ]
  },
  {
   "cell_type": "code",
   "execution_count": 6,
   "metadata": {},
   "outputs": [
    {
     "name": "stdout",
     "output_type": "stream",
     "text": [
      "Enter Integer: 23\n",
      "23 is a prime number\n"
     ]
    }
   ],
   "source": [
    "integer=int(input(\"Enter Integer: \"))\n",
    "def prime(integer):\n",
    "     if integer == 1:\n",
    "         print(integer,\"is a prime number\")\n",
    "         \n",
    "     elif integer>1:\n",
    "            for a in range(2,integer):\n",
    "                if(integer % a)== 0:       \n",
    "                    print(integer,\"is not a prime number\")\n",
    "                    break\n",
    "            else:\n",
    "                print(integer,\"is a prime number\")\n",
    "     else:\n",
    "             print(integer,\"is not a prime number\")      \n",
    "prime(integer)\n"
   ]
  },
  {
   "cell_type": "code",
   "execution_count": 7,
   "metadata": {},
   "outputs": [
    {
     "name": "stdout",
     "output_type": "stream",
     "text": [
      "Market Name is Bin Hashim\n",
      "Items list:\n",
      "Egg\n",
      "Butter\n",
      "Yogurt\n",
      "Chicken\n",
      "Banana\n"
     ]
    }
   ],
   "source": [
    "#-----------TASK#6--------------\n",
    "def market(m_name,*items):\n",
    "    print(\"Market Name is \"+m_name)\n",
    "    for item in items:\n",
    "       print(item)\n",
    "\n",
    "market(\"Bin Hashim\",\"Items list:\",\"Egg\",\"Butter\",\"Yogurt\",\"Chicken\",\"Banana\")"
   ]
  },
  {
   "cell_type": "code",
   "execution_count": null,
   "metadata": {},
   "outputs": [],
   "source": []
  }
 ],
 "metadata": {
  "kernelspec": {
   "display_name": "Python 3",
   "language": "python",
   "name": "python3"
  },
  "language_info": {
   "codemirror_mode": {
    "name": "ipython",
    "version": 3
   },
   "file_extension": ".py",
   "mimetype": "text/x-python",
   "name": "python",
   "nbconvert_exporter": "python",
   "pygments_lexer": "ipython3",
   "version": "3.7.4"
  }
 },
 "nbformat": 4,
 "nbformat_minor": 2
}
